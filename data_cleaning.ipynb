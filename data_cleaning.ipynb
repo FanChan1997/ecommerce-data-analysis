{
 "cells": [
  {
   "cell_type": "code",
   "execution_count": 24,
   "id": "9aa7b97c",
   "metadata": {},
   "outputs": [],
   "source": [
    "import pandas as pd\n",
    "import numpy as np\n",
    "from matplotlib import pyplot as plt\n",
    "import time"
   ]
  },
  {
   "cell_type": "code",
   "execution_count": 25,
   "id": "eaf76815",
   "metadata": {},
   "outputs": [
    {
     "name": "stderr",
     "output_type": "stream",
     "text": [
      "/var/folders/77/9zjcjr250nd0x7jjwz_wssvw0000gn/T/ipykernel_73556/3446104715.py:2: DtypeWarning: Columns (0,1,2,4) have mixed types. Specify dtype option on import or set low_memory=False.\n",
      "  data=pd.read_csv(file_path,header=None,index_col=None)\n"
     ]
    },
    {
     "data": {
      "text/html": [
       "<div>\n",
       "<style scoped>\n",
       "    .dataframe tbody tr th:only-of-type {\n",
       "        vertical-align: middle;\n",
       "    }\n",
       "\n",
       "    .dataframe tbody tr th {\n",
       "        vertical-align: top;\n",
       "    }\n",
       "\n",
       "    .dataframe thead th {\n",
       "        text-align: right;\n",
       "    }\n",
       "</style>\n",
       "<table border=\"1\" class=\"dataframe\">\n",
       "  <thead>\n",
       "    <tr style=\"text-align: right;\">\n",
       "      <th></th>\n",
       "      <th>User_Id</th>\n",
       "      <th>Item_Id</th>\n",
       "      <th>Category_Id</th>\n",
       "      <th>Behavior_type</th>\n",
       "      <th>Timestamp</th>\n",
       "    </tr>\n",
       "  </thead>\n",
       "  <tbody>\n",
       "    <tr>\n",
       "      <th>1</th>\n",
       "      <td>1001466</td>\n",
       "      <td>3933470</td>\n",
       "      <td>2640118</td>\n",
       "      <td>pv</td>\n",
       "      <td>1512285206</td>\n",
       "    </tr>\n",
       "    <tr>\n",
       "      <th>2</th>\n",
       "      <td>1000420</td>\n",
       "      <td>4412606</td>\n",
       "      <td>1451041</td>\n",
       "      <td>pv</td>\n",
       "      <td>1512223661</td>\n",
       "    </tr>\n",
       "    <tr>\n",
       "      <th>3</th>\n",
       "      <td>1000</td>\n",
       "      <td>2196555</td>\n",
       "      <td>2430608</td>\n",
       "      <td>pv</td>\n",
       "      <td>1512042012</td>\n",
       "    </tr>\n",
       "    <tr>\n",
       "      <th>4</th>\n",
       "      <td>1000573</td>\n",
       "      <td>4446378</td>\n",
       "      <td>4482016</td>\n",
       "      <td>pv</td>\n",
       "      <td>1511876337</td>\n",
       "    </tr>\n",
       "    <tr>\n",
       "      <th>5</th>\n",
       "      <td>1001757</td>\n",
       "      <td>1546004</td>\n",
       "      <td>2304296</td>\n",
       "      <td>pv</td>\n",
       "      <td>1511962475</td>\n",
       "    </tr>\n",
       "  </tbody>\n",
       "</table>\n",
       "</div>"
      ],
      "text/plain": [
       "   User_Id  Item_Id Category_Id Behavior_type   Timestamp\n",
       "1  1001466  3933470     2640118            pv  1512285206\n",
       "2  1000420  4412606     1451041            pv  1512223661\n",
       "3     1000  2196555     2430608            pv  1512042012\n",
       "4  1000573  4446378     4482016            pv  1511876337\n",
       "5  1001757  1546004     2304296            pv  1511962475"
      ]
     },
     "execution_count": 25,
     "metadata": {},
     "output_type": "execute_result"
    }
   ],
   "source": [
    "file_path = r\"sample_data.csv\"\n",
    "data=pd.read_csv(file_path,header=None,index_col=None)\n",
    "data.columns=['User_Id','Item_Id','Category_Id','Behavior_type','Timestamp']\n",
    "data = data.iloc[1:] \n",
    "data.head(5)"
   ]
  },
  {
   "cell_type": "code",
   "execution_count": 31,
   "id": "a2cc0ee2",
   "metadata": {},
   "outputs": [
    {
     "data": {
      "text/plain": [
       "User_Id          0\n",
       "Item_Id          0\n",
       "Category_Id      0\n",
       "Behavior_type    0\n",
       "Timestamp        0\n",
       "dtype: int64"
      ]
     },
     "execution_count": 31,
     "metadata": {},
     "output_type": "execute_result"
    }
   ],
   "source": [
    "# 检查空值 \n",
    "data.isnull().sum()"
   ]
  },
  {
   "cell_type": "code",
   "execution_count": 32,
   "id": "0a9d717b",
   "metadata": {},
   "outputs": [
    {
     "data": {
      "text/plain": [
       "<bound method DataFrame.info of           User_Id  Item_Id Category_Id Behavior_type   Timestamp\n",
       "1         1001466  3933470     2640118            pv  1512285206\n",
       "2         1000420  4412606     1451041            pv  1512223661\n",
       "3            1000  2196555     2430608            pv  1512042012\n",
       "4         1000573  4446378     4482016            pv  1511876337\n",
       "5         1001757  1546004     2304296            pv  1511962475\n",
       "...           ...      ...         ...           ...         ...\n",
       "10015077   999990  1742594     4756105            pv  1512202027\n",
       "10015078   999997  3502273     4170419            pv  1512126965\n",
       "10015079    99999   911595     1216617            pv  1511615634\n",
       "10015080    99999  1730734     2939262            pv  1511662411\n",
       "10015081   999989  1301197      570735            pv  1511762889\n",
       "\n",
       "[10015081 rows x 5 columns]>"
      ]
     },
     "execution_count": 32,
     "metadata": {},
     "output_type": "execute_result"
    }
   ],
   "source": [
    "#查看数据信息\n",
    "data.info"
   ]
  },
  {
   "cell_type": "code",
   "execution_count": 33,
   "id": "22115c78",
   "metadata": {},
   "outputs": [
    {
     "data": {
      "text/plain": [
       "User_Id           954431\n",
       "Item_Id          1851200\n",
       "Category_Id        12325\n",
       "Behavior_type          4\n",
       "Timestamp         878200\n",
       "dtype: int64"
      ]
     },
     "execution_count": 33,
     "metadata": {},
     "output_type": "execute_result"
    }
   ],
   "source": [
    "data.nunique()"
   ]
  },
  {
   "cell_type": "code",
   "execution_count": 34,
   "id": "5bd295af",
   "metadata": {},
   "outputs": [],
   "source": [
    "#时间戳转日期，调整8小时时差，转换为北京时间\n",
    "import datetime\n",
    "data[\"Timestamp\"] = pd.to_datetime(data[\"Timestamp\"],unit='s')+datetime.timedelta(hours=8)"
   ]
  },
  {
   "cell_type": "code",
   "execution_count": 35,
   "id": "5dafae33",
   "metadata": {},
   "outputs": [
    {
     "name": "stdout",
     "output_type": "stream",
     "text": [
      "1          2017-12-03 15:13:26\n",
      "2          2017-12-02 22:07:41\n",
      "3          2017-11-30 19:40:12\n",
      "4          2017-11-28 21:38:57\n",
      "5          2017-11-29 21:34:35\n",
      "                   ...        \n",
      "10015077   2017-12-02 16:07:07\n",
      "10015078   2017-12-01 19:16:05\n",
      "10015079   2017-11-25 21:13:54\n",
      "10015080   2017-11-26 10:13:31\n",
      "10015081   2017-11-27 14:08:09\n",
      "Name: Timestamp, Length: 10015081, dtype: datetime64[ns]\n"
     ]
    }
   ],
   "source": [
    "print(data[\"Timestamp\"])"
   ]
  },
  {
   "cell_type": "code",
   "execution_count": 40,
   "id": "32cec9fe",
   "metadata": {},
   "outputs": [
    {
     "name": "stdout",
     "output_type": "stream",
     "text": [
      "1          2017-12-03 15:13:26\n",
      "2          2017-12-02 22:07:41\n",
      "3          2017-11-30 19:40:12\n",
      "4          2017-11-28 21:38:57\n",
      "5          2017-11-29 21:34:35\n",
      "                   ...        \n",
      "10015077   2017-12-02 16:07:07\n",
      "10015078   2017-12-01 19:16:05\n",
      "10015079   2017-11-25 21:13:54\n",
      "10015080   2017-11-26 10:13:31\n",
      "10015081   2017-11-27 14:08:09\n",
      "Name: Timestamp, Length: 10009606, dtype: datetime64[ns]\n"
     ]
    }
   ],
   "source": [
    "#数据集包含了2017年11月25日至2017年12月3日之间 剔除不在这个区间的数据\n",
    "data = data[(data[\"Timestamp\"]>=pd.Timestamp(\"2017-11-25 00:00:00\"))\n",
    "        &(data[\"Timestamp\"]<=pd.Timestamp(\"2017-12-03 23:59:59\"))]\n",
    "print(data[\"Timestamp\"])"
   ]
  },
  {
   "cell_type": "code",
   "execution_count": 41,
   "id": "8e572001",
   "metadata": {},
   "outputs": [],
   "source": [
    "#重置索引\n",
    "data = data.reset_index(drop = True)"
   ]
  },
  {
   "cell_type": "code",
   "execution_count": 43,
   "id": "991f3216",
   "metadata": {},
   "outputs": [
    {
     "data": {
      "text/html": [
       "<div>\n",
       "<style scoped>\n",
       "    .dataframe tbody tr th:only-of-type {\n",
       "        vertical-align: middle;\n",
       "    }\n",
       "\n",
       "    .dataframe tbody tr th {\n",
       "        vertical-align: top;\n",
       "    }\n",
       "\n",
       "    .dataframe thead th {\n",
       "        text-align: right;\n",
       "    }\n",
       "</style>\n",
       "<table border=\"1\" class=\"dataframe\">\n",
       "  <thead>\n",
       "    <tr style=\"text-align: right;\">\n",
       "      <th></th>\n",
       "      <th>User_Id</th>\n",
       "      <th>Item_Id</th>\n",
       "      <th>Category_Id</th>\n",
       "      <th>Behavior_type</th>\n",
       "      <th>Timestamp</th>\n",
       "    </tr>\n",
       "  </thead>\n",
       "  <tbody>\n",
       "    <tr>\n",
       "      <th>0</th>\n",
       "      <td>1001466</td>\n",
       "      <td>3933470</td>\n",
       "      <td>2640118</td>\n",
       "      <td>pv</td>\n",
       "      <td>2017-12-03 15:13:26</td>\n",
       "    </tr>\n",
       "    <tr>\n",
       "      <th>1</th>\n",
       "      <td>1000420</td>\n",
       "      <td>4412606</td>\n",
       "      <td>1451041</td>\n",
       "      <td>pv</td>\n",
       "      <td>2017-12-02 22:07:41</td>\n",
       "    </tr>\n",
       "    <tr>\n",
       "      <th>2</th>\n",
       "      <td>1000</td>\n",
       "      <td>2196555</td>\n",
       "      <td>2430608</td>\n",
       "      <td>pv</td>\n",
       "      <td>2017-11-30 19:40:12</td>\n",
       "    </tr>\n",
       "    <tr>\n",
       "      <th>3</th>\n",
       "      <td>1000573</td>\n",
       "      <td>4446378</td>\n",
       "      <td>4482016</td>\n",
       "      <td>pv</td>\n",
       "      <td>2017-11-28 21:38:57</td>\n",
       "    </tr>\n",
       "    <tr>\n",
       "      <th>4</th>\n",
       "      <td>1001757</td>\n",
       "      <td>1546004</td>\n",
       "      <td>2304296</td>\n",
       "      <td>pv</td>\n",
       "      <td>2017-11-29 21:34:35</td>\n",
       "    </tr>\n",
       "  </tbody>\n",
       "</table>\n",
       "</div>"
      ],
      "text/plain": [
       "   User_Id  Item_Id Category_Id Behavior_type           Timestamp\n",
       "0  1001466  3933470     2640118            pv 2017-12-03 15:13:26\n",
       "1  1000420  4412606     1451041            pv 2017-12-02 22:07:41\n",
       "2     1000  2196555     2430608            pv 2017-11-30 19:40:12\n",
       "3  1000573  4446378     4482016            pv 2017-11-28 21:38:57\n",
       "4  1001757  1546004     2304296            pv 2017-11-29 21:34:35"
      ]
     },
     "execution_count": 43,
     "metadata": {},
     "output_type": "execute_result"
    }
   ],
   "source": [
    "data.head()"
   ]
  },
  {
   "cell_type": "code",
   "execution_count": 44,
   "id": "d399f60e",
   "metadata": {},
   "outputs": [
    {
     "name": "stdout",
     "output_type": "stream",
     "text": [
      "<class 'pandas.core.frame.DataFrame'>\n",
      "RangeIndex: 10009606 entries, 0 to 10009605\n",
      "Data columns (total 5 columns):\n",
      " #   Column         Dtype         \n",
      "---  ------         -----         \n",
      " 0   User_Id        object        \n",
      " 1   Item_Id        object        \n",
      " 2   Category_Id    object        \n",
      " 3   Behavior_type  object        \n",
      " 4   Timestamp      datetime64[ns]\n",
      "dtypes: datetime64[ns](1), object(4)\n",
      "memory usage: 381.8+ MB\n"
     ]
    }
   ],
   "source": [
    "data.info()"
   ]
  },
  {
   "cell_type": "code",
   "execution_count": 46,
   "id": "c057f35e",
   "metadata": {},
   "outputs": [
    {
     "data": {
      "text/plain": [
       "User_Id           954289\n",
       "Item_Id          1850723\n",
       "Category_Id        12324\n",
       "Behavior_type          4\n",
       "Timestamp         756449\n",
       "dtype: int64"
      ]
     },
     "execution_count": 46,
     "metadata": {},
     "output_type": "execute_result"
    }
   ],
   "source": [
    "data.nunique()"
   ]
  },
  {
   "cell_type": "code",
   "execution_count": null,
   "id": "c4e64d7f",
   "metadata": {},
   "outputs": [],
   "source": [
    "# 用于数据分析的数据为:\n",
    "\n",
    "# 用户数量：954289\n",
    "# 商品数量： 1850723\n",
    "# 商品类目数量：12324\n",
    "# 所有行为数量：756449"
   ]
  },
  {
   "cell_type": "code",
   "execution_count": 49,
   "id": "85b91098",
   "metadata": {},
   "outputs": [
    {
     "name": "stdout",
     "output_type": "stream",
     "text": [
      "False    10009606\n",
      "dtype: int64\n",
      "False    10009606\n",
      "dtype: int64\n"
     ]
    }
   ],
   "source": [
    "#确认是否有重复数据\n",
    "print(data.duplicated().value_counts())\n",
    "data=data.drop_duplicates(subset=['User_Id','Item_Id','Category_Id','Behavior_type','Timestamp'],keep='first')\n",
    "print(data.duplicated().value_counts())"
   ]
  },
  {
   "cell_type": "code",
   "execution_count": 50,
   "id": "1de2167a",
   "metadata": {},
   "outputs": [],
   "source": [
    "# 预处理数据保存\n",
    "data.to_csv(r'cleaned_data.csv', encoding = 'utf-8', index = False)\n"
   ]
  },
  {
   "cell_type": "code",
   "execution_count": null,
   "id": "6f9495bd",
   "metadata": {},
   "outputs": [],
   "source": []
  }
 ],
 "metadata": {
  "kernelspec": {
   "display_name": "Python 3 (ipykernel)",
   "language": "python",
   "name": "python3"
  },
  "language_info": {
   "codemirror_mode": {
    "name": "ipython",
    "version": 3
   },
   "file_extension": ".py",
   "mimetype": "text/x-python",
   "name": "python",
   "nbconvert_exporter": "python",
   "pygments_lexer": "ipython3",
   "version": "3.9.13"
  }
 },
 "nbformat": 4,
 "nbformat_minor": 5
}
