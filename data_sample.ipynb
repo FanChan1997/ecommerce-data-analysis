{
 "cells": [
  {
   "cell_type": "code",
   "execution_count": 1,
   "id": "ed8a27f9",
   "metadata": {},
   "outputs": [],
   "source": [
    "import pandas as pd"
   ]
  },
  {
   "cell_type": "code",
   "execution_count": 2,
   "id": "e13af128",
   "metadata": {},
   "outputs": [],
   "source": [
    "input_csv = 'UserBehavior.csv'\n",
    "output_csv = 'sample_data.csv'\n",
    "sample_size = 100000"
   ]
  },
  {
   "cell_type": "code",
   "execution_count": 3,
   "id": "8cb792cf",
   "metadata": {},
   "outputs": [],
   "source": [
    "# 分块读取+随机抽样（避免内存溢出）\n",
    "chunk_size = 50000\n",
    "samples = []\n",
    "for chunk in pd.read_csv(input_csv, chunksize=chunk_size):\n",
    "    if len(chunk) >= sample_size:\n",
    "        samples.append(chunk.sample(n=sample_size, random_state=42))\n",
    "    else:\n",
    "        samples.append(chunk.sample(frac=0.1, random_state=42))  # 小分块按比例抽\n",
    "\n",
    "# 合并并保存结果\n",
    "sampled_df = pd.concat(samples)\n",
    "sampled_df.to_csv(output_csv, index=False)"
   ]
  },
  {
   "cell_type": "code",
   "execution_count": null,
   "id": "648e1da8",
   "metadata": {},
   "outputs": [],
   "source": []
  }
 ],
 "metadata": {
  "kernelspec": {
   "display_name": "Python 3 (ipykernel)",
   "language": "python",
   "name": "python3"
  },
  "language_info": {
   "codemirror_mode": {
    "name": "ipython",
    "version": 3
   },
   "file_extension": ".py",
   "mimetype": "text/x-python",
   "name": "python",
   "nbconvert_exporter": "python",
   "pygments_lexer": "ipython3",
   "version": "3.9.13"
  }
 },
 "nbformat": 4,
 "nbformat_minor": 5
}
